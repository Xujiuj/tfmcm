{
 "cells": [
  {
   "cell_type": "code",
   "execution_count": 1,
   "metadata": {
    "collapsed": true
   },
   "outputs": [],
   "source": [
    "from typing import List, Dict, Any\n",
    "import numpy as np\n",
    "import pandas as pd\n",
    "import matplotlib.pyplot as plt\n",
    "import seaborn as sns\n",
    "import klib as kl\n",
    "import missingno as mns\n",
    "import os\n",
    "import warnings\n",
    "\n",
    "\n",
    "os.environ['KERAS_BACKEND']='tensorflow'\n",
    "os.environ[\"CUDA_VISIBLE_DEVICES\"]=\"0\"\n",
    "os.environ[\"KMP_DUPLICATE_LIB_OK\"]=\"TRUE\"\n",
    "warnings.filterwarnings('ignore')\n",
    "plt.rcParams['font.sans-serif'] = ['Kaiti']\n",
    "plt.rcParams['axes.unicode_minus'] = False\n",
    "PIC_PATH = \"../models/image/image1\"\n",
    "DATA_PATH = '../data/data/'\n",
    "RESULT_PATH = '../data/summary/'\n",
    "MODEL_PATH = '../models/model1/'\n",
    "\n",
    "np.random.seed(42)"
   ]
  },
  {
   "cell_type": "code",
   "execution_count": 2,
   "outputs": [
    {
     "data": {
      "text/plain": "           1_1      1_10      1_11      1_12      1_13      1_14      1_15  \\\n0     0.012602  0.011450 -0.176203 -0.036674 -0.026947  0.014838  0.006234   \n1    -0.003336 -0.016240 -0.024282 -0.035311  0.114516 -0.193881 -0.060875   \n2    -0.006454  0.001249  0.029096  0.016480  0.029189  0.091976 -0.045963   \n3     0.008098 -0.080366 -0.020176  0.026020 -0.058387  0.046606  0.100686   \n4    -0.006628 -0.068707 -0.106401 -0.027133 -0.069611 -0.021457 -0.055905   \n...        ...       ...       ...       ...       ...       ...       ...   \n7995 -1.086638 -0.542362  0.915988  0.225004 -0.002247  0.164577  0.001263   \n7996 -1.255552 -0.406824  0.842080  0.373561 -0.119010  0.028449  0.016179   \n7997 -1.061691 -0.351442  0.427376  0.447158 -0.089820  0.255325  0.128029   \n7998 -1.086465 -0.250882  0.004460  0.526206 -0.110029  0.046606  0.128029   \n7999 -0.910447 -0.128460 -0.348654  0.587537 -0.065120  0.132810 -0.003708   \n\n          1_16      1_17      1_18  ...      8_28      8_29       8_3  \\\n0    -0.530086 -1.707829 -0.679290  ...  0.003356  0.000226  0.000074   \n1    -0.607624 -2.431200 -0.504764  ...  0.004541  0.000528  0.000702   \n2    -0.350338 -2.307193 -0.472616  ...  0.005349  0.001057  0.001358   \n3     0.051451 -1.363366 -0.500171  ...  0.005704  0.001737  0.001979   \n4     0.492009 -0.639995 -0.247568  ...  0.005569  0.002484  0.002494   \n...        ...       ...       ...  ...       ...       ...       ...   \n7995  0.640037  0.455395 -0.614988  ... -0.002688  0.012859 -0.002563   \n7996  0.569547  0.414059 -0.672401  ... -0.002361  0.014742 -0.001448   \n7997  0.280541  0.248717 -0.612691  ... -0.002058  0.016352 -0.000192   \n7998  0.079647  0.538066 -0.727514  ... -0.001722  0.017584  0.001223   \n7999  0.199479  0.916974 -0.711436  ... -0.001292  0.018340  0.002804   \n\n          8_30       8_4       8_5       8_6       8_7       8_8       8_9  \n0    -0.006010  0.009478 -0.067317 -0.008951 -0.018505  0.008764  0.016276  \n1    -0.005237  0.011004 -0.066072 -0.014454 -0.017302  0.004975  0.006080  \n2    -0.004730  0.012247 -0.062780 -0.018934 -0.014487  0.002274 -0.003967  \n3    -0.004410  0.013146 -0.057815 -0.022116 -0.010262  0.000694 -0.013040  \n4    -0.004134  0.013659 -0.051635 -0.023826 -0.004969  0.000092 -0.020482  \n...        ...       ...       ...       ...       ...       ...       ...  \n7995  0.029693  0.009401 -0.025864 -0.027323  0.025959  0.001592  0.013016  \n7996  0.026582  0.011079 -0.031046 -0.042437  0.022254  0.008665  0.008778  \n7997  0.023567  0.012684 -0.034179 -0.056179  0.019695  0.015104  0.004747  \n7998  0.020678  0.014185 -0.034970 -0.067295  0.018402  0.020689  0.001015  \n7999  0.017887  0.015517 -0.033251 -0.074832  0.018388  0.025200 -0.002334  \n\n[8000 rows x 170 columns]",
      "text/html": "<div>\n<style scoped>\n    .dataframe tbody tr th:only-of-type {\n        vertical-align: middle;\n    }\n\n    .dataframe tbody tr th {\n        vertical-align: top;\n    }\n\n    .dataframe thead th {\n        text-align: right;\n    }\n</style>\n<table border=\"1\" class=\"dataframe\">\n  <thead>\n    <tr style=\"text-align: right;\">\n      <th></th>\n      <th>1_1</th>\n      <th>1_10</th>\n      <th>1_11</th>\n      <th>1_12</th>\n      <th>1_13</th>\n      <th>1_14</th>\n      <th>1_15</th>\n      <th>1_16</th>\n      <th>1_17</th>\n      <th>1_18</th>\n      <th>...</th>\n      <th>8_28</th>\n      <th>8_29</th>\n      <th>8_3</th>\n      <th>8_30</th>\n      <th>8_4</th>\n      <th>8_5</th>\n      <th>8_6</th>\n      <th>8_7</th>\n      <th>8_8</th>\n      <th>8_9</th>\n    </tr>\n  </thead>\n  <tbody>\n    <tr>\n      <th>0</th>\n      <td>0.012602</td>\n      <td>0.011450</td>\n      <td>-0.176203</td>\n      <td>-0.036674</td>\n      <td>-0.026947</td>\n      <td>0.014838</td>\n      <td>0.006234</td>\n      <td>-0.530086</td>\n      <td>-1.707829</td>\n      <td>-0.679290</td>\n      <td>...</td>\n      <td>0.003356</td>\n      <td>0.000226</td>\n      <td>0.000074</td>\n      <td>-0.006010</td>\n      <td>0.009478</td>\n      <td>-0.067317</td>\n      <td>-0.008951</td>\n      <td>-0.018505</td>\n      <td>0.008764</td>\n      <td>0.016276</td>\n    </tr>\n    <tr>\n      <th>1</th>\n      <td>-0.003336</td>\n      <td>-0.016240</td>\n      <td>-0.024282</td>\n      <td>-0.035311</td>\n      <td>0.114516</td>\n      <td>-0.193881</td>\n      <td>-0.060875</td>\n      <td>-0.607624</td>\n      <td>-2.431200</td>\n      <td>-0.504764</td>\n      <td>...</td>\n      <td>0.004541</td>\n      <td>0.000528</td>\n      <td>0.000702</td>\n      <td>-0.005237</td>\n      <td>0.011004</td>\n      <td>-0.066072</td>\n      <td>-0.014454</td>\n      <td>-0.017302</td>\n      <td>0.004975</td>\n      <td>0.006080</td>\n    </tr>\n    <tr>\n      <th>2</th>\n      <td>-0.006454</td>\n      <td>0.001249</td>\n      <td>0.029096</td>\n      <td>0.016480</td>\n      <td>0.029189</td>\n      <td>0.091976</td>\n      <td>-0.045963</td>\n      <td>-0.350338</td>\n      <td>-2.307193</td>\n      <td>-0.472616</td>\n      <td>...</td>\n      <td>0.005349</td>\n      <td>0.001057</td>\n      <td>0.001358</td>\n      <td>-0.004730</td>\n      <td>0.012247</td>\n      <td>-0.062780</td>\n      <td>-0.018934</td>\n      <td>-0.014487</td>\n      <td>0.002274</td>\n      <td>-0.003967</td>\n    </tr>\n    <tr>\n      <th>3</th>\n      <td>0.008098</td>\n      <td>-0.080366</td>\n      <td>-0.020176</td>\n      <td>0.026020</td>\n      <td>-0.058387</td>\n      <td>0.046606</td>\n      <td>0.100686</td>\n      <td>0.051451</td>\n      <td>-1.363366</td>\n      <td>-0.500171</td>\n      <td>...</td>\n      <td>0.005704</td>\n      <td>0.001737</td>\n      <td>0.001979</td>\n      <td>-0.004410</td>\n      <td>0.013146</td>\n      <td>-0.057815</td>\n      <td>-0.022116</td>\n      <td>-0.010262</td>\n      <td>0.000694</td>\n      <td>-0.013040</td>\n    </tr>\n    <tr>\n      <th>4</th>\n      <td>-0.006628</td>\n      <td>-0.068707</td>\n      <td>-0.106401</td>\n      <td>-0.027133</td>\n      <td>-0.069611</td>\n      <td>-0.021457</td>\n      <td>-0.055905</td>\n      <td>0.492009</td>\n      <td>-0.639995</td>\n      <td>-0.247568</td>\n      <td>...</td>\n      <td>0.005569</td>\n      <td>0.002484</td>\n      <td>0.002494</td>\n      <td>-0.004134</td>\n      <td>0.013659</td>\n      <td>-0.051635</td>\n      <td>-0.023826</td>\n      <td>-0.004969</td>\n      <td>0.000092</td>\n      <td>-0.020482</td>\n    </tr>\n    <tr>\n      <th>...</th>\n      <td>...</td>\n      <td>...</td>\n      <td>...</td>\n      <td>...</td>\n      <td>...</td>\n      <td>...</td>\n      <td>...</td>\n      <td>...</td>\n      <td>...</td>\n      <td>...</td>\n      <td>...</td>\n      <td>...</td>\n      <td>...</td>\n      <td>...</td>\n      <td>...</td>\n      <td>...</td>\n      <td>...</td>\n      <td>...</td>\n      <td>...</td>\n      <td>...</td>\n      <td>...</td>\n    </tr>\n    <tr>\n      <th>7995</th>\n      <td>-1.086638</td>\n      <td>-0.542362</td>\n      <td>0.915988</td>\n      <td>0.225004</td>\n      <td>-0.002247</td>\n      <td>0.164577</td>\n      <td>0.001263</td>\n      <td>0.640037</td>\n      <td>0.455395</td>\n      <td>-0.614988</td>\n      <td>...</td>\n      <td>-0.002688</td>\n      <td>0.012859</td>\n      <td>-0.002563</td>\n      <td>0.029693</td>\n      <td>0.009401</td>\n      <td>-0.025864</td>\n      <td>-0.027323</td>\n      <td>0.025959</td>\n      <td>0.001592</td>\n      <td>0.013016</td>\n    </tr>\n    <tr>\n      <th>7996</th>\n      <td>-1.255552</td>\n      <td>-0.406824</td>\n      <td>0.842080</td>\n      <td>0.373561</td>\n      <td>-0.119010</td>\n      <td>0.028449</td>\n      <td>0.016179</td>\n      <td>0.569547</td>\n      <td>0.414059</td>\n      <td>-0.672401</td>\n      <td>...</td>\n      <td>-0.002361</td>\n      <td>0.014742</td>\n      <td>-0.001448</td>\n      <td>0.026582</td>\n      <td>0.011079</td>\n      <td>-0.031046</td>\n      <td>-0.042437</td>\n      <td>0.022254</td>\n      <td>0.008665</td>\n      <td>0.008778</td>\n    </tr>\n    <tr>\n      <th>7997</th>\n      <td>-1.061691</td>\n      <td>-0.351442</td>\n      <td>0.427376</td>\n      <td>0.447158</td>\n      <td>-0.089820</td>\n      <td>0.255325</td>\n      <td>0.128029</td>\n      <td>0.280541</td>\n      <td>0.248717</td>\n      <td>-0.612691</td>\n      <td>...</td>\n      <td>-0.002058</td>\n      <td>0.016352</td>\n      <td>-0.000192</td>\n      <td>0.023567</td>\n      <td>0.012684</td>\n      <td>-0.034179</td>\n      <td>-0.056179</td>\n      <td>0.019695</td>\n      <td>0.015104</td>\n      <td>0.004747</td>\n    </tr>\n    <tr>\n      <th>7998</th>\n      <td>-1.086465</td>\n      <td>-0.250882</td>\n      <td>0.004460</td>\n      <td>0.526206</td>\n      <td>-0.110029</td>\n      <td>0.046606</td>\n      <td>0.128029</td>\n      <td>0.079647</td>\n      <td>0.538066</td>\n      <td>-0.727514</td>\n      <td>...</td>\n      <td>-0.001722</td>\n      <td>0.017584</td>\n      <td>0.001223</td>\n      <td>0.020678</td>\n      <td>0.014185</td>\n      <td>-0.034970</td>\n      <td>-0.067295</td>\n      <td>0.018402</td>\n      <td>0.020689</td>\n      <td>0.001015</td>\n    </tr>\n    <tr>\n      <th>7999</th>\n      <td>-0.910447</td>\n      <td>-0.128460</td>\n      <td>-0.348654</td>\n      <td>0.587537</td>\n      <td>-0.065120</td>\n      <td>0.132810</td>\n      <td>-0.003708</td>\n      <td>0.199479</td>\n      <td>0.916974</td>\n      <td>-0.711436</td>\n      <td>...</td>\n      <td>-0.001292</td>\n      <td>0.018340</td>\n      <td>0.002804</td>\n      <td>0.017887</td>\n      <td>0.015517</td>\n      <td>-0.033251</td>\n      <td>-0.074832</td>\n      <td>0.018388</td>\n      <td>0.025200</td>\n      <td>-0.002334</td>\n    </tr>\n  </tbody>\n</table>\n<p>8000 rows × 170 columns</p>\n</div>"
     },
     "execution_count": 2,
     "metadata": {},
     "output_type": "execute_result"
    }
   ],
   "source": [
    "transform = pd.read_csv(RESULT_PATH + 'transform.csv')\n",
    "transform"
   ],
   "metadata": {
    "collapsed": false
   }
  },
  {
   "cell_type": "code",
   "execution_count": 3,
   "outputs": [],
   "source": [
    "import pickle\n",
    "\n",
    "def read_bins(path: str, res=True) -> Any:\n",
    "    if res:\n",
    "        f = open(RESULT_PATH + path, 'rb')\n",
    "    else:\n",
    "        f = open(path, 'rb')\n",
    "    s = f.read()\n",
    "    return pickle.loads(s)\n",
    "\n",
    "def write_bins(model: Any, path: str, res=True) -> Any:\n",
    "    path = RESULT_PATH + path if res else path\n",
    "    m = pickle.dumps(model)\n",
    "    with open(path, 'wb+') as f:\n",
    "        f.write(m)"
   ],
   "metadata": {
    "collapsed": false
   }
  },
  {
   "cell_type": "code",
   "execution_count": 4,
   "outputs": [],
   "source": [
    "earth = read_bins('earth.list')\n",
    "shed = read_bins('unnatural.list')"
   ],
   "metadata": {
    "collapsed": false
   }
  },
  {
   "cell_type": "code",
   "execution_count": 5,
   "outputs": [
    {
     "data": {
      "text/plain": "           0          1          2          3          4          5     \\\n1_1    0.031847  -0.011189  -0.019609   0.019685  -0.020076  -0.000898   \n1_10   0.001247  -0.007641  -0.002028  -0.028223  -0.024481   0.002182   \n1_11  -0.018077  -0.000769   0.005312  -0.000301  -0.010124  -0.010592   \n1_12  -0.015064  -0.014596   0.003179   0.006454  -0.011789   0.012067   \n1_13  -0.004527   0.024943   0.007167  -0.011077  -0.013415   0.017458   \n...         ...        ...        ...        ...        ...        ...   \n8_23 -18.703373 -24.892555 -28.146841 -28.462965 -26.189087 -21.945822   \n8_24   6.533483  -0.396517  -7.194654 -13.267302 -18.153183 -21.557693   \n8_25  20.799034   5.738626  -9.456475 -23.552597 -35.564842 -44.826271   \n8_26 -53.410206 -61.589596 -69.321838 -75.982040 -81.187347 -84.861229   \n8_27   9.416552   8.462877   7.138796   5.501653   3.600021   1.482470   \n\n           6          7          8          9     ...       7990       7991  \\\n1_1   -0.001365  -0.006043  -0.005108   0.001909  ...   0.883669   0.428054   \n1_10  -0.013254  -0.001092   0.007796  -0.017464  ...  -0.221415  -0.206446   \n1_11   0.002973   0.005312  -0.005914  -0.019948  ...   0.076414   0.053493   \n1_12  -0.001498  -0.007579  -0.005708  -0.014596  ...  -0.200771  -0.134347   \n1_13   0.020733   0.001554  -0.004995   0.026346  ...   0.053945   0.042718   \n...         ...        ...        ...        ...  ...        ...        ...   \n8_23 -16.497658 -10.621331  -4.996841  -0.139291  ... -19.474800 -21.291332   \n8_24 -23.357693 -23.578184 -22.349949 -19.867302  ... -16.344751 -13.355243   \n8_25 -50.997498 -54.019127 -54.031170 -51.295456  ...  42.800259  46.561687   \n8_26 -87.241020 -88.820816 -90.248573 -92.205917  ... -93.262451 -96.471428   \n8_27  -0.795898  -3.169367  -5.555490  -7.853857  ...  19.517572  10.471857   \n\n           7992       7993       7994       7995       7996       7997  \\\n1_1   -0.079484   0.102949  -0.804071  -2.936200  -3.392283  -2.868840   \n1_10  -0.214398  -0.183993  -0.189138  -0.176508  -0.133005  -0.115230   \n1_11   0.038057   0.067059   0.085770   0.106352   0.097932   0.050687   \n1_12  -0.079617  -0.021145   0.021423   0.074749   0.125737   0.150997   \n1_13   0.013716  -0.006398   0.018394   0.000618  -0.023706  -0.017625   \n...         ...        ...        ...        ...        ...        ...   \n8_23 -22.178679 -22.506433 -22.501944 -22.248474 -21.719902 -20.843985   \n8_24  -9.812792  -5.895536  -1.810831   2.227601   6.016424   9.369366   \n8_25  49.846790  52.468014  54.245770  55.010464  54.616383  52.959850   \n8_26 -91.967552 -80.409592 -62.989391 -41.308983 -17.208982   7.429181   \n8_27   1.168388  -8.128959 -17.135082 -25.541817 -33.014061 -39.193447   \n\n           7998       7999  \n1_1   -2.935732  -2.460470  \n1_10  -0.082953  -0.043660  \n1_11   0.002506  -0.037723  \n1_12   0.178128   0.199178  \n1_13  -0.021835  -0.012479  \n...         ...        ...  \n8_23 -19.569902 -17.927658  \n8_24  12.115640  14.100052  \n8_25  49.998829  45.767811  \n8_26  30.841425  51.489384  \n8_27 -43.725285 -46.303448  \n\n[90 rows x 8000 columns]",
      "text/html": "<div>\n<style scoped>\n    .dataframe tbody tr th:only-of-type {\n        vertical-align: middle;\n    }\n\n    .dataframe tbody tr th {\n        vertical-align: top;\n    }\n\n    .dataframe thead th {\n        text-align: right;\n    }\n</style>\n<table border=\"1\" class=\"dataframe\">\n  <thead>\n    <tr style=\"text-align: right;\">\n      <th></th>\n      <th>0</th>\n      <th>1</th>\n      <th>2</th>\n      <th>3</th>\n      <th>4</th>\n      <th>5</th>\n      <th>6</th>\n      <th>7</th>\n      <th>8</th>\n      <th>9</th>\n      <th>...</th>\n      <th>7990</th>\n      <th>7991</th>\n      <th>7992</th>\n      <th>7993</th>\n      <th>7994</th>\n      <th>7995</th>\n      <th>7996</th>\n      <th>7997</th>\n      <th>7998</th>\n      <th>7999</th>\n    </tr>\n  </thead>\n  <tbody>\n    <tr>\n      <th>1_1</th>\n      <td>0.031847</td>\n      <td>-0.011189</td>\n      <td>-0.019609</td>\n      <td>0.019685</td>\n      <td>-0.020076</td>\n      <td>-0.000898</td>\n      <td>-0.001365</td>\n      <td>-0.006043</td>\n      <td>-0.005108</td>\n      <td>0.001909</td>\n      <td>...</td>\n      <td>0.883669</td>\n      <td>0.428054</td>\n      <td>-0.079484</td>\n      <td>0.102949</td>\n      <td>-0.804071</td>\n      <td>-2.936200</td>\n      <td>-3.392283</td>\n      <td>-2.868840</td>\n      <td>-2.935732</td>\n      <td>-2.460470</td>\n    </tr>\n    <tr>\n      <th>1_10</th>\n      <td>0.001247</td>\n      <td>-0.007641</td>\n      <td>-0.002028</td>\n      <td>-0.028223</td>\n      <td>-0.024481</td>\n      <td>0.002182</td>\n      <td>-0.013254</td>\n      <td>-0.001092</td>\n      <td>0.007796</td>\n      <td>-0.017464</td>\n      <td>...</td>\n      <td>-0.221415</td>\n      <td>-0.206446</td>\n      <td>-0.214398</td>\n      <td>-0.183993</td>\n      <td>-0.189138</td>\n      <td>-0.176508</td>\n      <td>-0.133005</td>\n      <td>-0.115230</td>\n      <td>-0.082953</td>\n      <td>-0.043660</td>\n    </tr>\n    <tr>\n      <th>1_11</th>\n      <td>-0.018077</td>\n      <td>-0.000769</td>\n      <td>0.005312</td>\n      <td>-0.000301</td>\n      <td>-0.010124</td>\n      <td>-0.010592</td>\n      <td>0.002973</td>\n      <td>0.005312</td>\n      <td>-0.005914</td>\n      <td>-0.019948</td>\n      <td>...</td>\n      <td>0.076414</td>\n      <td>0.053493</td>\n      <td>0.038057</td>\n      <td>0.067059</td>\n      <td>0.085770</td>\n      <td>0.106352</td>\n      <td>0.097932</td>\n      <td>0.050687</td>\n      <td>0.002506</td>\n      <td>-0.037723</td>\n    </tr>\n    <tr>\n      <th>1_12</th>\n      <td>-0.015064</td>\n      <td>-0.014596</td>\n      <td>0.003179</td>\n      <td>0.006454</td>\n      <td>-0.011789</td>\n      <td>0.012067</td>\n      <td>-0.001498</td>\n      <td>-0.007579</td>\n      <td>-0.005708</td>\n      <td>-0.014596</td>\n      <td>...</td>\n      <td>-0.200771</td>\n      <td>-0.134347</td>\n      <td>-0.079617</td>\n      <td>-0.021145</td>\n      <td>0.021423</td>\n      <td>0.074749</td>\n      <td>0.125737</td>\n      <td>0.150997</td>\n      <td>0.178128</td>\n      <td>0.199178</td>\n    </tr>\n    <tr>\n      <th>1_13</th>\n      <td>-0.004527</td>\n      <td>0.024943</td>\n      <td>0.007167</td>\n      <td>-0.011077</td>\n      <td>-0.013415</td>\n      <td>0.017458</td>\n      <td>0.020733</td>\n      <td>0.001554</td>\n      <td>-0.004995</td>\n      <td>0.026346</td>\n      <td>...</td>\n      <td>0.053945</td>\n      <td>0.042718</td>\n      <td>0.013716</td>\n      <td>-0.006398</td>\n      <td>0.018394</td>\n      <td>0.000618</td>\n      <td>-0.023706</td>\n      <td>-0.017625</td>\n      <td>-0.021835</td>\n      <td>-0.012479</td>\n    </tr>\n    <tr>\n      <th>...</th>\n      <td>...</td>\n      <td>...</td>\n      <td>...</td>\n      <td>...</td>\n      <td>...</td>\n      <td>...</td>\n      <td>...</td>\n      <td>...</td>\n      <td>...</td>\n      <td>...</td>\n      <td>...</td>\n      <td>...</td>\n      <td>...</td>\n      <td>...</td>\n      <td>...</td>\n      <td>...</td>\n      <td>...</td>\n      <td>...</td>\n      <td>...</td>\n      <td>...</td>\n      <td>...</td>\n    </tr>\n    <tr>\n      <th>8_23</th>\n      <td>-18.703373</td>\n      <td>-24.892555</td>\n      <td>-28.146841</td>\n      <td>-28.462965</td>\n      <td>-26.189087</td>\n      <td>-21.945822</td>\n      <td>-16.497658</td>\n      <td>-10.621331</td>\n      <td>-4.996841</td>\n      <td>-0.139291</td>\n      <td>...</td>\n      <td>-19.474800</td>\n      <td>-21.291332</td>\n      <td>-22.178679</td>\n      <td>-22.506433</td>\n      <td>-22.501944</td>\n      <td>-22.248474</td>\n      <td>-21.719902</td>\n      <td>-20.843985</td>\n      <td>-19.569902</td>\n      <td>-17.927658</td>\n    </tr>\n    <tr>\n      <th>8_24</th>\n      <td>6.533483</td>\n      <td>-0.396517</td>\n      <td>-7.194654</td>\n      <td>-13.267302</td>\n      <td>-18.153183</td>\n      <td>-21.557693</td>\n      <td>-23.357693</td>\n      <td>-23.578184</td>\n      <td>-22.349949</td>\n      <td>-19.867302</td>\n      <td>...</td>\n      <td>-16.344751</td>\n      <td>-13.355243</td>\n      <td>-9.812792</td>\n      <td>-5.895536</td>\n      <td>-1.810831</td>\n      <td>2.227601</td>\n      <td>6.016424</td>\n      <td>9.369366</td>\n      <td>12.115640</td>\n      <td>14.100052</td>\n    </tr>\n    <tr>\n      <th>8_25</th>\n      <td>20.799034</td>\n      <td>5.738626</td>\n      <td>-9.456475</td>\n      <td>-23.552597</td>\n      <td>-35.564842</td>\n      <td>-44.826271</td>\n      <td>-50.997498</td>\n      <td>-54.019127</td>\n      <td>-54.031170</td>\n      <td>-51.295456</td>\n      <td>...</td>\n      <td>42.800259</td>\n      <td>46.561687</td>\n      <td>49.846790</td>\n      <td>52.468014</td>\n      <td>54.245770</td>\n      <td>55.010464</td>\n      <td>54.616383</td>\n      <td>52.959850</td>\n      <td>49.998829</td>\n      <td>45.767811</td>\n    </tr>\n    <tr>\n      <th>8_26</th>\n      <td>-53.410206</td>\n      <td>-61.589596</td>\n      <td>-69.321838</td>\n      <td>-75.982040</td>\n      <td>-81.187347</td>\n      <td>-84.861229</td>\n      <td>-87.241020</td>\n      <td>-88.820816</td>\n      <td>-90.248573</td>\n      <td>-92.205917</td>\n      <td>...</td>\n      <td>-93.262451</td>\n      <td>-96.471428</td>\n      <td>-91.967552</td>\n      <td>-80.409592</td>\n      <td>-62.989391</td>\n      <td>-41.308983</td>\n      <td>-17.208982</td>\n      <td>7.429181</td>\n      <td>30.841425</td>\n      <td>51.489384</td>\n    </tr>\n    <tr>\n      <th>8_27</th>\n      <td>9.416552</td>\n      <td>8.462877</td>\n      <td>7.138796</td>\n      <td>5.501653</td>\n      <td>3.600021</td>\n      <td>1.482470</td>\n      <td>-0.795898</td>\n      <td>-3.169367</td>\n      <td>-5.555490</td>\n      <td>-7.853857</td>\n      <td>...</td>\n      <td>19.517572</td>\n      <td>10.471857</td>\n      <td>1.168388</td>\n      <td>-8.128959</td>\n      <td>-17.135082</td>\n      <td>-25.541817</td>\n      <td>-33.014061</td>\n      <td>-39.193447</td>\n      <td>-43.725285</td>\n      <td>-46.303448</td>\n    </tr>\n  </tbody>\n</table>\n<p>90 rows × 8000 columns</p>\n</div>"
     },
     "execution_count": 5,
     "metadata": {},
     "output_type": "execute_result"
    }
   ],
   "source": [
    "train = pd.DataFrame()\n",
    "\n",
    "for i in earth:\n",
    "    train = pd.concat([train, i.T.iloc[:10]])\n",
    "for i in shed:\n",
    "    train = pd.concat([train, i.T.iloc[:20]])\n",
    "train"
   ],
   "metadata": {
    "collapsed": false
   }
  },
  {
   "cell_type": "code",
   "execution_count": 6,
   "outputs": [
    {
     "data": {
      "text/plain": "           0          1          2          3          4          5     \\\n1_19   0.004865  -0.017121  -0.003555   0.002058  -0.003555   0.004397   \n1_2    0.016663  -0.002048  -0.007661   0.007308   0.001226   0.018534   \n1_20   0.000327   0.009683  -0.002947  -0.000140   0.006876   0.003134   \n1_3    0.020103   0.006537  -0.002818  -0.002351  -0.020594   0.000456   \n1_4    0.005837   0.023145   0.003030  -0.019423   0.016596  -0.004454   \n...         ...        ...        ...        ...        ...        ...   \n8_5  -56.581928 -55.657642 -53.212746 -49.525192 -44.935604 -39.779888   \n8_6  -19.432631 -28.327196 -35.569153 -40.711327 -43.475456 -43.747631   \n8_7  -33.967102 -32.017540 -27.452972 -20.603409 -12.023408  -2.387321   \n8_8   16.815691  10.192864   5.472429   2.710255   1.658299   1.842864   \n8_9   23.275391   5.198435 -12.615696 -28.700695 -41.896564 -51.436348   \n\n           6          7          8          9     ...       7990       7991  \\\n1_19  -0.011975  -0.005894  -0.004023  -0.009168  ...  -1.050441  -0.923205   \n1_2    0.000759   0.008711   0.008711   0.001226  ...   1.411575   0.802061   \n1_20   0.002666   0.001731  -0.002011   0.006409  ...  -0.028207  -0.068436   \n1_3    0.007005   0.011215  -0.007964   0.008876  ...   0.410229   0.595001   \n1_4    0.005369   0.013789  -0.017084  -0.004454  ...   0.389414   0.197626   \n...         ...        ...        ...        ...  ...        ...        ...   \n8_5  -34.345398 -28.861521 -23.513969 -18.462746  ...   6.644194  -0.747235   \n8_6  -41.566544 -37.108936 -30.667849 -22.635021  ...  34.883457  28.192152   \n8_7    7.625940  17.436592  26.651592  35.110722  ...  76.403763  70.120720   \n8_8    2.688516   3.643951   4.276560   4.325038  ... -55.594746 -46.241917   \n8_9  -56.966782 -58.497654 -56.310261 -50.860695  ...  54.887783  47.968651   \n\n           7992       7993       7994       7995       7996       7997  \\\n1_19  -0.857249  -0.807196  -0.638797  -0.333806   0.034803   0.402943   \n1_2   -0.713537  -1.159329  -0.163431   1.122488   2.000974   1.194994   \n1_20  -0.097906  -0.070775  -0.042240  -0.064694  -0.048321  -0.022594   \n1_3   -0.218464  -1.535257  -0.487903   1.303684   0.883152   0.248846   \n1_4    0.044195  -0.141981  -0.280910  -0.291669  -0.199985   0.020338   \n...         ...        ...        ...        ...        ...        ...   \n8_5   -7.911929 -14.644786 -20.699072 -25.795603 -29.644175 -31.971317   \n8_6   15.495848  -2.578500 -24.737413 -49.127632 -73.555237 -95.766106   \n8_7   62.356373  53.907246  45.582462  38.119202  32.112026  27.962679   \n8_8  -34.735180 -21.981701  -8.764092   4.280690  16.642647  27.897211   \n8_9   40.608437  32.969738  25.212347  17.495827   9.981479   2.834087   \n\n            7998        7999  \n1_19    0.706531    1.001698  \n1_2    -0.888954   -1.931161  \n1_20   -0.016513    0.008747  \n1_3    -0.528132   -1.347678  \n1_4     0.284164    0.463791  \n...          ...         ...  \n8_5   -32.558460  -31.282133  \n8_6  -113.732628 -125.915459  \n8_7    25.867680   25.843983  \n8_8    37.658298   45.543083  \n8_9    -3.782435   -9.720043  \n\n[80 rows x 8000 columns]",
      "text/html": "<div>\n<style scoped>\n    .dataframe tbody tr th:only-of-type {\n        vertical-align: middle;\n    }\n\n    .dataframe tbody tr th {\n        vertical-align: top;\n    }\n\n    .dataframe thead th {\n        text-align: right;\n    }\n</style>\n<table border=\"1\" class=\"dataframe\">\n  <thead>\n    <tr style=\"text-align: right;\">\n      <th></th>\n      <th>0</th>\n      <th>1</th>\n      <th>2</th>\n      <th>3</th>\n      <th>4</th>\n      <th>5</th>\n      <th>6</th>\n      <th>7</th>\n      <th>8</th>\n      <th>9</th>\n      <th>...</th>\n      <th>7990</th>\n      <th>7991</th>\n      <th>7992</th>\n      <th>7993</th>\n      <th>7994</th>\n      <th>7995</th>\n      <th>7996</th>\n      <th>7997</th>\n      <th>7998</th>\n      <th>7999</th>\n    </tr>\n  </thead>\n  <tbody>\n    <tr>\n      <th>1_19</th>\n      <td>0.004865</td>\n      <td>-0.017121</td>\n      <td>-0.003555</td>\n      <td>0.002058</td>\n      <td>-0.003555</td>\n      <td>0.004397</td>\n      <td>-0.011975</td>\n      <td>-0.005894</td>\n      <td>-0.004023</td>\n      <td>-0.009168</td>\n      <td>...</td>\n      <td>-1.050441</td>\n      <td>-0.923205</td>\n      <td>-0.857249</td>\n      <td>-0.807196</td>\n      <td>-0.638797</td>\n      <td>-0.333806</td>\n      <td>0.034803</td>\n      <td>0.402943</td>\n      <td>0.706531</td>\n      <td>1.001698</td>\n    </tr>\n    <tr>\n      <th>1_2</th>\n      <td>0.016663</td>\n      <td>-0.002048</td>\n      <td>-0.007661</td>\n      <td>0.007308</td>\n      <td>0.001226</td>\n      <td>0.018534</td>\n      <td>0.000759</td>\n      <td>0.008711</td>\n      <td>0.008711</td>\n      <td>0.001226</td>\n      <td>...</td>\n      <td>1.411575</td>\n      <td>0.802061</td>\n      <td>-0.713537</td>\n      <td>-1.159329</td>\n      <td>-0.163431</td>\n      <td>1.122488</td>\n      <td>2.000974</td>\n      <td>1.194994</td>\n      <td>-0.888954</td>\n      <td>-1.931161</td>\n    </tr>\n    <tr>\n      <th>1_20</th>\n      <td>0.000327</td>\n      <td>0.009683</td>\n      <td>-0.002947</td>\n      <td>-0.000140</td>\n      <td>0.006876</td>\n      <td>0.003134</td>\n      <td>0.002666</td>\n      <td>0.001731</td>\n      <td>-0.002011</td>\n      <td>0.006409</td>\n      <td>...</td>\n      <td>-0.028207</td>\n      <td>-0.068436</td>\n      <td>-0.097906</td>\n      <td>-0.070775</td>\n      <td>-0.042240</td>\n      <td>-0.064694</td>\n      <td>-0.048321</td>\n      <td>-0.022594</td>\n      <td>-0.016513</td>\n      <td>0.008747</td>\n    </tr>\n    <tr>\n      <th>1_3</th>\n      <td>0.020103</td>\n      <td>0.006537</td>\n      <td>-0.002818</td>\n      <td>-0.002351</td>\n      <td>-0.020594</td>\n      <td>0.000456</td>\n      <td>0.007005</td>\n      <td>0.011215</td>\n      <td>-0.007964</td>\n      <td>0.008876</td>\n      <td>...</td>\n      <td>0.410229</td>\n      <td>0.595001</td>\n      <td>-0.218464</td>\n      <td>-1.535257</td>\n      <td>-0.487903</td>\n      <td>1.303684</td>\n      <td>0.883152</td>\n      <td>0.248846</td>\n      <td>-0.528132</td>\n      <td>-1.347678</td>\n    </tr>\n    <tr>\n      <th>1_4</th>\n      <td>0.005837</td>\n      <td>0.023145</td>\n      <td>0.003030</td>\n      <td>-0.019423</td>\n      <td>0.016596</td>\n      <td>-0.004454</td>\n      <td>0.005369</td>\n      <td>0.013789</td>\n      <td>-0.017084</td>\n      <td>-0.004454</td>\n      <td>...</td>\n      <td>0.389414</td>\n      <td>0.197626</td>\n      <td>0.044195</td>\n      <td>-0.141981</td>\n      <td>-0.280910</td>\n      <td>-0.291669</td>\n      <td>-0.199985</td>\n      <td>0.020338</td>\n      <td>0.284164</td>\n      <td>0.463791</td>\n    </tr>\n    <tr>\n      <th>...</th>\n      <td>...</td>\n      <td>...</td>\n      <td>...</td>\n      <td>...</td>\n      <td>...</td>\n      <td>...</td>\n      <td>...</td>\n      <td>...</td>\n      <td>...</td>\n      <td>...</td>\n      <td>...</td>\n      <td>...</td>\n      <td>...</td>\n      <td>...</td>\n      <td>...</td>\n      <td>...</td>\n      <td>...</td>\n      <td>...</td>\n      <td>...</td>\n      <td>...</td>\n      <td>...</td>\n    </tr>\n    <tr>\n      <th>8_5</th>\n      <td>-56.581928</td>\n      <td>-55.657642</td>\n      <td>-53.212746</td>\n      <td>-49.525192</td>\n      <td>-44.935604</td>\n      <td>-39.779888</td>\n      <td>-34.345398</td>\n      <td>-28.861521</td>\n      <td>-23.513969</td>\n      <td>-18.462746</td>\n      <td>...</td>\n      <td>6.644194</td>\n      <td>-0.747235</td>\n      <td>-7.911929</td>\n      <td>-14.644786</td>\n      <td>-20.699072</td>\n      <td>-25.795603</td>\n      <td>-29.644175</td>\n      <td>-31.971317</td>\n      <td>-32.558460</td>\n      <td>-31.282133</td>\n    </tr>\n    <tr>\n      <th>8_6</th>\n      <td>-19.432631</td>\n      <td>-28.327196</td>\n      <td>-35.569153</td>\n      <td>-40.711327</td>\n      <td>-43.475456</td>\n      <td>-43.747631</td>\n      <td>-41.566544</td>\n      <td>-37.108936</td>\n      <td>-30.667849</td>\n      <td>-22.635021</td>\n      <td>...</td>\n      <td>34.883457</td>\n      <td>28.192152</td>\n      <td>15.495848</td>\n      <td>-2.578500</td>\n      <td>-24.737413</td>\n      <td>-49.127632</td>\n      <td>-73.555237</td>\n      <td>-95.766106</td>\n      <td>-113.732628</td>\n      <td>-125.915459</td>\n    </tr>\n    <tr>\n      <th>8_7</th>\n      <td>-33.967102</td>\n      <td>-32.017540</td>\n      <td>-27.452972</td>\n      <td>-20.603409</td>\n      <td>-12.023408</td>\n      <td>-2.387321</td>\n      <td>7.625940</td>\n      <td>17.436592</td>\n      <td>26.651592</td>\n      <td>35.110722</td>\n      <td>...</td>\n      <td>76.403763</td>\n      <td>70.120720</td>\n      <td>62.356373</td>\n      <td>53.907246</td>\n      <td>45.582462</td>\n      <td>38.119202</td>\n      <td>32.112026</td>\n      <td>27.962679</td>\n      <td>25.867680</td>\n      <td>25.843983</td>\n    </tr>\n    <tr>\n      <th>8_8</th>\n      <td>16.815691</td>\n      <td>10.192864</td>\n      <td>5.472429</td>\n      <td>2.710255</td>\n      <td>1.658299</td>\n      <td>1.842864</td>\n      <td>2.688516</td>\n      <td>3.643951</td>\n      <td>4.276560</td>\n      <td>4.325038</td>\n      <td>...</td>\n      <td>-55.594746</td>\n      <td>-46.241917</td>\n      <td>-34.735180</td>\n      <td>-21.981701</td>\n      <td>-8.764092</td>\n      <td>4.280690</td>\n      <td>16.642647</td>\n      <td>27.897211</td>\n      <td>37.658298</td>\n      <td>45.543083</td>\n    </tr>\n    <tr>\n      <th>8_9</th>\n      <td>23.275391</td>\n      <td>5.198435</td>\n      <td>-12.615696</td>\n      <td>-28.700695</td>\n      <td>-41.896564</td>\n      <td>-51.436348</td>\n      <td>-56.966782</td>\n      <td>-58.497654</td>\n      <td>-56.310261</td>\n      <td>-50.860695</td>\n      <td>...</td>\n      <td>54.887783</td>\n      <td>47.968651</td>\n      <td>40.608437</td>\n      <td>32.969738</td>\n      <td>25.212347</td>\n      <td>17.495827</td>\n      <td>9.981479</td>\n      <td>2.834087</td>\n      <td>-3.782435</td>\n      <td>-9.720043</td>\n    </tr>\n  </tbody>\n</table>\n<p>80 rows × 8000 columns</p>\n</div>"
     },
     "execution_count": 6,
     "metadata": {},
     "output_type": "execute_result"
    }
   ],
   "source": [
    "test = pd.DataFrame()\n",
    "\n",
    "for i in earth:\n",
    "    test = pd.concat([test, i.T.iloc[10:]])\n",
    "for i in shed:\n",
    "    test = pd.concat([test, i.T.iloc[20:]])\n",
    "test"
   ],
   "metadata": {
    "collapsed": false
   }
  },
  {
   "cell_type": "code",
   "execution_count": 7,
   "outputs": [],
   "source": [
    "from sklearn.tree import DecisionTreeClassifier\n",
    "from sklearn.ensemble import GradientBoostingClassifier, RandomForestClassifier\n",
    "from sklearn.svm import SVC\n",
    "from sklearn.metrics import precision_score, recall_score, f1_score, accuracy_score"
   ],
   "metadata": {
    "collapsed": false
   }
  },
  {
   "cell_type": "code",
   "execution_count": 8,
   "outputs": [],
   "source": [
    "def metrics_score(y_true, y_pred):\n",
    "    return [\n",
    "        precision_score(y_true, y_pred),\n",
    "        recall_score(y_true, y_pred),\n",
    "        f1_score(y_true, y_pred),\n",
    "        accuracy_score(y_true, y_pred)\n",
    "    ]"
   ],
   "metadata": {
    "collapsed": false
   }
  },
  {
   "cell_type": "code",
   "execution_count": 9,
   "outputs": [
    {
     "name": "stdout",
     "output_type": "stream",
     "text": [
      "270 ms ± 75.7 ms per loop (mean ± std. dev. of 7 runs, 10 loops each)\n",
      "<class 'sklearn.tree._classes.DecisionTreeClassifier'>: [1.0, 0.8, 0.888888888888889, 0.975]\n",
      "14.6 s ± 1.42 s per loop (mean ± std. dev. of 7 runs, 1 loop each)\n",
      "<class 'sklearn.ensemble._gb.GradientBoostingClassifier'>: [1.0, 0.7, 0.8235294117647058, 0.9625]\n",
      "185 ms ± 8.99 ms per loop (mean ± std. dev. of 7 runs, 10 loops each)\n",
      "<class 'sklearn.ensemble._forest.RandomForestClassifier'>: [1.0, 1.0, 1.0, 1.0]\n",
      "47 ms ± 547 µs per loop (mean ± std. dev. of 7 runs, 10 loops each)\n",
      "<class 'sklearn.svm._classes.SVC'>: [1.0, 0.9, 0.9473684210526316, 0.9875]\n"
     ]
    }
   ],
   "source": [
    "for model in [DecisionTreeClassifier(random_state=42), GradientBoostingClassifier(random_state=42),\n",
    "              RandomForestClassifier(random_state=42), SVC(random_state=42)]:\n",
    "    %timeit model.fit(train, [0] * 70 + [1] * 20)\n",
    "    pre = model.predict(test)\n",
    "    print(str(model.__class__) + ': ' + str(metrics_score([0] * 70 + [1] * 10, pre)))\n"
   ],
   "metadata": {
    "collapsed": false
   }
  },
  {
   "cell_type": "code",
   "execution_count": 10,
   "outputs": [],
   "source": [
    "from sklearn.decomposition import PCA\n",
    "\n",
    "pca = PCA(.99)\n",
    "p_train = pca.fit_transform(train)\n",
    "p_test = pca.transform(test)"
   ],
   "metadata": {
    "collapsed": false
   }
  },
  {
   "cell_type": "code",
   "execution_count": 11,
   "outputs": [
    {
     "name": "stdout",
     "output_type": "stream",
     "text": [
      "564 µs ± 112 µs per loop (mean ± std. dev. of 7 runs, 1,000 loops each)\n",
      "<class 'sklearn.tree._classes.DecisionTreeClassifier'>: [1.0, 0.9, 0.9473684210526316, 0.9875]\n",
      "41.9 ms ± 552 µs per loop (mean ± std. dev. of 7 runs, 10 loops each)\n",
      "<class 'sklearn.ensemble._gb.GradientBoostingClassifier'>: [1.0, 0.6, 0.7499999999999999, 0.95]\n",
      "85.7 ms ± 1.16 ms per loop (mean ± std. dev. of 7 runs, 10 loops each)\n",
      "<class 'sklearn.ensemble._forest.RandomForestClassifier'>: [1.0, 1.0, 1.0, 1.0]\n",
      "421 µs ± 10.7 µs per loop (mean ± std. dev. of 7 runs, 1,000 loops each)\n",
      "<class 'sklearn.svm._classes.SVC'>: [1.0, 0.9, 0.9473684210526316, 0.9875]\n"
     ]
    }
   ],
   "source": [
    "for model in [DecisionTreeClassifier(random_state=42), GradientBoostingClassifier(random_state=42),\n",
    "              RandomForestClassifier(random_state=42), SVC(random_state=42)]:\n",
    "    %timeit model.fit(p_train, [0] * 70 + [1] * 20)\n",
    "    pre = model.predict(p_test)\n",
    "    print(str(model.__class__) + ': ' + str(metrics_score([0] * 70 + [1] * 10, pre)))"
   ],
   "metadata": {
    "collapsed": false
   }
  },
  {
   "cell_type": "code",
   "execution_count": 13,
   "outputs": [
    {
     "name": "stdout",
     "output_type": "stream",
     "text": [
      "Epoch 1/32\n",
      "3/3 [==============================] - 7s 2s/step - loss: 1.3363 - accuracy: 0.6556 - precision_1: 0.3878 - recall_1: 0.9500\n",
      "Epoch 2/32\n",
      "3/3 [==============================] - 4s 1s/step - loss: 0.1133 - accuracy: 0.9556 - precision_1: 0.8333 - recall_1: 1.0000\n",
      "Epoch 3/32\n",
      "3/3 [==============================] - 4s 1s/step - loss: 0.0592 - accuracy: 0.9889 - precision_1: 0.9524 - recall_1: 1.0000\n",
      "Epoch 4/32\n",
      "3/3 [==============================] - 4s 1s/step - loss: 0.0194 - accuracy: 1.0000 - precision_1: 1.0000 - recall_1: 1.0000\n",
      "Epoch 5/32\n",
      "3/3 [==============================] - 4s 1s/step - loss: 0.0038 - accuracy: 1.0000 - precision_1: 1.0000 - recall_1: 1.0000\n",
      "Epoch 6/32\n",
      "3/3 [==============================] - 4s 1s/step - loss: 0.0012 - accuracy: 1.0000 - precision_1: 1.0000 - recall_1: 1.0000\n",
      "Epoch 7/32\n",
      "3/3 [==============================] - 4s 1s/step - loss: 4.6980e-04 - accuracy: 1.0000 - precision_1: 1.0000 - recall_1: 1.0000\n",
      "Epoch 8/32\n",
      "3/3 [==============================] - 4s 1s/step - loss: 2.9842e-04 - accuracy: 1.0000 - precision_1: 1.0000 - recall_1: 1.0000\n",
      "Epoch 9/32\n",
      "3/3 [==============================] - 4s 1s/step - loss: 1.8950e-04 - accuracy: 1.0000 - precision_1: 1.0000 - recall_1: 1.0000\n",
      "Epoch 10/32\n",
      "3/3 [==============================] - 5s 2s/step - loss: 1.2711e-04 - accuracy: 1.0000 - precision_1: 1.0000 - recall_1: 1.0000\n",
      "Epoch 11/32\n",
      "3/3 [==============================] - 4s 1s/step - loss: 3.2370 - accuracy: 0.8222 - precision_1: 0.5588 - recall_1: 0.9500\n",
      "Epoch 12/32\n",
      "3/3 [==============================] - 5s 2s/step - loss: 0.1600 - accuracy: 0.9111 - precision_1: 0.7143 - recall_1: 1.0000\n",
      "Epoch 13/32\n",
      "3/3 [==============================] - 4s 1s/step - loss: 0.0840 - accuracy: 0.9556 - precision_1: 0.8333 - recall_1: 1.0000\n",
      "Epoch 14/32\n",
      "3/3 [==============================] - 4s 1s/step - loss: 0.0664 - accuracy: 0.9778 - precision_1: 0.9091 - recall_1: 1.0000\n",
      "Epoch 15/32\n",
      "3/3 [==============================] - 4s 1s/step - loss: 0.0539 - accuracy: 0.9667 - precision_1: 0.8696 - recall_1: 1.0000\n",
      "Epoch 16/32\n",
      "3/3 [==============================] - 4s 1s/step - loss: 0.0484 - accuracy: 0.9778 - precision_1: 0.9091 - recall_1: 1.0000\n",
      "Epoch 17/32\n",
      "3/3 [==============================] - 4s 1s/step - loss: 0.0408 - accuracy: 0.9778 - precision_1: 0.9091 - recall_1: 1.0000\n",
      "Epoch 18/32\n",
      "3/3 [==============================] - 4s 1s/step - loss: 0.0328 - accuracy: 0.9778 - precision_1: 0.9091 - recall_1: 1.0000\n",
      "Epoch 19/32\n",
      "3/3 [==============================] - 4s 1s/step - loss: 0.0281 - accuracy: 0.9889 - precision_1: 0.9524 - recall_1: 1.0000\n",
      "Epoch 20/32\n",
      "3/3 [==============================] - 4s 1s/step - loss: 0.0249 - accuracy: 0.9889 - precision_1: 0.9524 - recall_1: 1.0000\n",
      "Epoch 21/32\n",
      "3/3 [==============================] - 4s 1s/step - loss: 0.0201 - accuracy: 0.9889 - precision_1: 0.9524 - recall_1: 1.0000\n",
      "Epoch 22/32\n",
      "3/3 [==============================] - 4s 1s/step - loss: 0.0174 - accuracy: 0.9889 - precision_1: 0.9524 - recall_1: 1.0000\n",
      "Epoch 23/32\n",
      "3/3 [==============================] - 4s 1s/step - loss: 0.0130 - accuracy: 1.0000 - precision_1: 1.0000 - recall_1: 1.0000\n",
      "Epoch 24/32\n",
      "3/3 [==============================] - 4s 1s/step - loss: 0.0087 - accuracy: 1.0000 - precision_1: 1.0000 - recall_1: 1.0000\n",
      "Epoch 25/32\n",
      "3/3 [==============================] - 4s 1s/step - loss: 0.0064 - accuracy: 1.0000 - precision_1: 1.0000 - recall_1: 1.0000\n",
      "Epoch 26/32\n",
      "3/3 [==============================] - 4s 1s/step - loss: 0.0050 - accuracy: 1.0000 - precision_1: 1.0000 - recall_1: 1.0000\n",
      "Epoch 27/32\n",
      "3/3 [==============================] - 4s 1s/step - loss: 0.0035 - accuracy: 1.0000 - precision_1: 1.0000 - recall_1: 1.0000\n",
      "Epoch 28/32\n",
      "3/3 [==============================] - 4s 1s/step - loss: 0.0023 - accuracy: 1.0000 - precision_1: 1.0000 - recall_1: 1.0000\n",
      "Epoch 29/32\n",
      "3/3 [==============================] - 4s 1s/step - loss: 0.0016 - accuracy: 1.0000 - precision_1: 1.0000 - recall_1: 1.0000\n",
      "Epoch 30/32\n",
      "3/3 [==============================] - 4s 1s/step - loss: 0.0011 - accuracy: 1.0000 - precision_1: 1.0000 - recall_1: 1.0000\n",
      "Epoch 31/32\n",
      "3/3 [==============================] - 4s 1s/step - loss: 7.8998e-04 - accuracy: 1.0000 - precision_1: 1.0000 - recall_1: 1.0000\n",
      "Epoch 32/32\n",
      "3/3 [==============================] - 4s 1s/step - loss: 5.2999e-04 - accuracy: 1.0000 - precision_1: 1.0000 - recall_1: 1.0000\n"
     ]
    }
   ],
   "source": [
    "from keras.layers import *\n",
    "from keras.models import Sequential\n",
    "from tcn import TCN\n",
    "from keras.metrics import *\n",
    "\n",
    "model = Sequential()\n",
    "model.add(Conv1D(32, 31, activation='relu', input_shape=(8000, 1)))\n",
    "model.add(Dropout(.3))\n",
    "model.add(Conv1D(32, 31, activation='relu'))\n",
    "model.add(Dropout(.3))\n",
    "model.add(Conv1D(32, 31, activation='relu'))\n",
    "model.add(MaxPooling1D(5))\n",
    "model.add(Conv1D(32, 31, activation='relu'))\n",
    "model.add(Dropout(.3))\n",
    "model.add(Conv1D(32, 31, activation='relu'))\n",
    "model.add(Dropout(.3))\n",
    "model.add(Conv1D(32, 31, activation='relu'))\n",
    "model.add(MaxPooling1D(5))\n",
    "model.add(Flatten())\n",
    "model.add(Dense(1, activation='sigmoid'))\n",
    "model.compile(loss='binary_crossentropy', metrics=['accuracy', Precision(), Recall()])\n",
    "hist = model.fit(train.to_numpy().reshape(-1, 8000, 1), np.array([0] * 70 + [1] * 20).reshape(-1, 1), epochs=32)"
   ],
   "metadata": {
    "collapsed": false
   }
  },
  {
   "cell_type": "code",
   "execution_count": 14,
   "outputs": [
    {
     "data": {
      "text/plain": "[<matplotlib.lines.Line2D at 0x267261e1a60>]"
     },
     "execution_count": 14,
     "metadata": {},
     "output_type": "execute_result"
    },
    {
     "data": {
      "text/plain": "<Figure size 432x288 with 1 Axes>",
      "image/png": "[encoded data removed]"
     },
     "metadata": {},
     "output_type": "display_data"
    }
   ],
   "source": [
    "plt.plot(hist.history['loss'])"
   ],
   "metadata": {
    "collapsed": false
   }
  },
  {
   "cell_type": "code",
   "execution_count": 15,
   "outputs": [
    {
     "name": "stdout",
     "output_type": "stream",
     "text": [
      "3/3 [==============================] - 0s 108ms/step\n"
     ]
    },
    {
     "data": {
      "text/plain": "[1.0, 1.0, 1.0, 1.0]"
     },
     "execution_count": 15,
     "metadata": {},
     "output_type": "execute_result"
    }
   ],
   "source": [
    "pre = model.predict(test)[:, 0]\n",
    "metrics_score([0] * 70 + [1] * 10, np.round(pre))"
   ],
   "metadata": {
    "collapsed": false
   }
  },
  {
   "cell_type": "code",
   "execution_count": 16,
   "outputs": [
    {
     "data": {
      "text/plain": "<AxesSubplot:title={'center':'Confusion Matrix'}, xlabel='Predicted label', ylabel='True label'>"
     },
     "execution_count": 16,
     "metadata": {},
     "output_type": "execute_result"
    },
    {
     "data": {
      "text/plain": "<Figure size 432x288 with 2 Axes>",
      "image/png": "[encoded data removed]"
     },
     "metadata": {},
     "output_type": "display_data"
    }
   ],
   "source": [
    "from scikitplot import *\n",
    "\n",
    "metrics.plot_confusion_matrix([0] * 70 + [1] * 10, np.round(pre))"
   ],
   "metadata": {
    "collapsed": false
   }
  },
  {
   "cell_type": "code",
   "execution_count": 17,
   "outputs": [
    {
     "data": {
      "text/plain": "           0          1          2          3          4          5     \\\n1_1    0.031847  -0.011189  -0.019609   0.019685  -0.020076  -0.000898   \n1_10   0.001247  -0.007641  -0.002028  -0.028223  -0.024481   0.002182   \n1_11  -0.018077  -0.000769   0.005312  -0.000301  -0.010124  -0.010592   \n1_12  -0.015064  -0.014596   0.003179   0.006454  -0.011789   0.012067   \n1_13  -0.004527   0.024943   0.007167  -0.011077  -0.013415   0.017458   \n...         ...        ...        ...        ...        ...        ...   \n8_5  -56.581928 -55.657642 -53.212746 -49.525192 -44.935604 -39.779888   \n8_6  -19.432631 -28.327196 -35.569153 -40.711327 -43.475456 -43.747631   \n8_7  -33.967102 -32.017540 -27.452972 -20.603409 -12.023408  -2.387321   \n8_8   16.815691  10.192864   5.472429   2.710255   1.658299   1.842864   \n8_9   23.275391   5.198435 -12.615696 -28.700695 -41.896564 -51.436348   \n\n           6          7          8          9     ...       7990       7991  \\\n1_1   -0.001365  -0.006043  -0.005108   0.001909  ...   0.883669   0.428054   \n1_10  -0.013254  -0.001092   0.007796  -0.017464  ...  -0.221415  -0.206446   \n1_11   0.002973   0.005312  -0.005914  -0.019948  ...   0.076414   0.053493   \n1_12  -0.001498  -0.007579  -0.005708  -0.014596  ...  -0.200771  -0.134347   \n1_13   0.020733   0.001554  -0.004995   0.026346  ...   0.053945   0.042718   \n...         ...        ...        ...        ...  ...        ...        ...   \n8_5  -34.345398 -28.861521 -23.513969 -18.462746  ...   6.644194  -0.747235   \n8_6  -41.566544 -37.108936 -30.667849 -22.635021  ...  34.883457  28.192152   \n8_7    7.625940  17.436592  26.651592  35.110722  ...  76.403763  70.120720   \n8_8    2.688516   3.643951   4.276560   4.325038  ... -55.594746 -46.241917   \n8_9  -56.966782 -58.497654 -56.310261 -50.860695  ...  54.887783  47.968651   \n\n           7992       7993       7994       7995       7996       7997  \\\n1_1   -0.079484   0.102949  -0.804071  -2.936200  -3.392283  -2.868840   \n1_10  -0.214398  -0.183993  -0.189138  -0.176508  -0.133005  -0.115230   \n1_11   0.038057   0.067059   0.085770   0.106352   0.097932   0.050687   \n1_12  -0.079617  -0.021145   0.021423   0.074749   0.125737   0.150997   \n1_13   0.013716  -0.006398   0.018394   0.000618  -0.023706  -0.017625   \n...         ...        ...        ...        ...        ...        ...   \n8_5   -7.911929 -14.644786 -20.699072 -25.795603 -29.644175 -31.971317   \n8_6   15.495848  -2.578500 -24.737413 -49.127632 -73.555237 -95.766106   \n8_7   62.356373  53.907246  45.582462  38.119202  32.112026  27.962679   \n8_8  -34.735180 -21.981701  -8.764092   4.280690  16.642647  27.897211   \n8_9   40.608437  32.969738  25.212347  17.495827   9.981479   2.834087   \n\n            7998        7999  \n1_1    -2.935732   -2.460470  \n1_10   -0.082953   -0.043660  \n1_11    0.002506   -0.037723  \n1_12    0.178128    0.199178  \n1_13   -0.021835   -0.012479  \n...          ...         ...  \n8_5   -32.558460  -31.282133  \n8_6  -113.732628 -125.915459  \n8_7    25.867680   25.843983  \n8_8    37.658298   45.543083  \n8_9    -3.782435   -9.720043  \n\n[170 rows x 8000 columns]",
      "text/html": "<div>\n<style scoped>\n    .dataframe tbody tr th:only-of-type {\n        vertical-align: middle;\n    }\n\n    .dataframe tbody tr th {\n        vertical-align: top;\n    }\n\n    .dataframe thead th {\n        text-align: right;\n    }\n</style>\n<table border=\"1\" class=\"dataframe\">\n  <thead>\n    <tr style=\"text-align: right;\">\n      <th></th>\n      <th>0</th>\n      <th>1</th>\n      <th>2</th>\n      <th>3</th>\n      <th>4</th>\n      <th>5</th>\n      <th>6</th>\n      <th>7</th>\n      <th>8</th>\n      <th>9</th>\n      <th>...</th>\n      <th>7990</th>\n      <th>7991</th>\n      <th>7992</th>\n      <th>7993</th>\n      <th>7994</th>\n      <th>7995</th>\n      <th>7996</th>\n      <th>7997</th>\n      <th>7998</th>\n      <th>7999</th>\n    </tr>\n  </thead>\n  <tbody>\n    <tr>\n      <th>1_1</th>\n      <td>0.031847</td>\n      <td>-0.011189</td>\n      <td>-0.019609</td>\n      <td>0.019685</td>\n      <td>-0.020076</td>\n      <td>-0.000898</td>\n      <td>-0.001365</td>\n      <td>-0.006043</td>\n      <td>-0.005108</td>\n      <td>0.001909</td>\n      <td>...</td>\n      <td>0.883669</td>\n      <td>0.428054</td>\n      <td>-0.079484</td>\n      <td>0.102949</td>\n      <td>-0.804071</td>\n      <td>-2.936200</td>\n      <td>-3.392283</td>\n      <td>-2.868840</td>\n      <td>-2.935732</td>\n      <td>-2.460470</td>\n    </tr>\n    <tr>\n      <th>1_10</th>\n      <td>0.001247</td>\n      <td>-0.007641</td>\n      <td>-0.002028</td>\n      <td>-0.028223</td>\n      <td>-0.024481</td>\n      <td>0.002182</td>\n      <td>-0.013254</td>\n      <td>-0.001092</td>\n      <td>0.007796</td>\n      <td>-0.017464</td>\n      <td>...</td>\n      <td>-0.221415</td>\n      <td>-0.206446</td>\n      <td>-0.214398</td>\n      <td>-0.183993</td>\n      <td>-0.189138</td>\n      <td>-0.176508</td>\n      <td>-0.133005</td>\n      <td>-0.115230</td>\n      <td>-0.082953</td>\n      <td>-0.043660</td>\n    </tr>\n    <tr>\n      <th>1_11</th>\n      <td>-0.018077</td>\n      <td>-0.000769</td>\n      <td>0.005312</td>\n      <td>-0.000301</td>\n      <td>-0.010124</td>\n      <td>-0.010592</td>\n      <td>0.002973</td>\n      <td>0.005312</td>\n      <td>-0.005914</td>\n      <td>-0.019948</td>\n      <td>...</td>\n      <td>0.076414</td>\n      <td>0.053493</td>\n      <td>0.038057</td>\n      <td>0.067059</td>\n      <td>0.085770</td>\n      <td>0.106352</td>\n      <td>0.097932</td>\n      <td>0.050687</td>\n      <td>0.002506</td>\n      <td>-0.037723</td>\n    </tr>\n    <tr>\n      <th>1_12</th>\n      <td>-0.015064</td>\n      <td>-0.014596</td>\n      <td>0.003179</td>\n      <td>0.006454</td>\n      <td>-0.011789</td>\n      <td>0.012067</td>\n      <td>-0.001498</td>\n      <td>-0.007579</td>\n      <td>-0.005708</td>\n      <td>-0.014596</td>\n      <td>...</td>\n      <td>-0.200771</td>\n      <td>-0.134347</td>\n      <td>-0.079617</td>\n      <td>-0.021145</td>\n      <td>0.021423</td>\n      <td>0.074749</td>\n      <td>0.125737</td>\n      <td>0.150997</td>\n      <td>0.178128</td>\n      <td>0.199178</td>\n    </tr>\n    <tr>\n      <th>1_13</th>\n      <td>-0.004527</td>\n      <td>0.024943</td>\n      <td>0.007167</td>\n      <td>-0.011077</td>\n      <td>-0.013415</td>\n      <td>0.017458</td>\n      <td>0.020733</td>\n      <td>0.001554</td>\n      <td>-0.004995</td>\n      <td>0.026346</td>\n      <td>...</td>\n      <td>0.053945</td>\n      <td>0.042718</td>\n      <td>0.013716</td>\n      <td>-0.006398</td>\n      <td>0.018394</td>\n      <td>0.000618</td>\n      <td>-0.023706</td>\n      <td>-0.017625</td>\n      <td>-0.021835</td>\n      <td>-0.012479</td>\n    </tr>\n    <tr>\n      <th>...</th>\n      <td>...</td>\n      <td>...</td>\n      <td>...</td>\n      <td>...</td>\n      <td>...</td>\n      <td>...</td>\n      <td>...</td>\n      <td>...</td>\n      <td>...</td>\n      <td>...</td>\n      <td>...</td>\n      <td>...</td>\n      <td>...</td>\n      <td>...</td>\n      <td>...</td>\n      <td>...</td>\n      <td>...</td>\n      <td>...</td>\n      <td>...</td>\n      <td>...</td>\n      <td>...</td>\n    </tr>\n    <tr>\n      <th>8_5</th>\n      <td>-56.581928</td>\n      <td>-55.657642</td>\n      <td>-53.212746</td>\n      <td>-49.525192</td>\n      <td>-44.935604</td>\n      <td>-39.779888</td>\n      <td>-34.345398</td>\n      <td>-28.861521</td>\n      <td>-23.513969</td>\n      <td>-18.462746</td>\n      <td>...</td>\n      <td>6.644194</td>\n      <td>-0.747235</td>\n      <td>-7.911929</td>\n      <td>-14.644786</td>\n      <td>-20.699072</td>\n      <td>-25.795603</td>\n      <td>-29.644175</td>\n      <td>-31.971317</td>\n      <td>-32.558460</td>\n      <td>-31.282133</td>\n    </tr>\n    <tr>\n      <th>8_6</th>\n      <td>-19.432631</td>\n      <td>-28.327196</td>\n      <td>-35.569153</td>\n      <td>-40.711327</td>\n      <td>-43.475456</td>\n      <td>-43.747631</td>\n      <td>-41.566544</td>\n      <td>-37.108936</td>\n      <td>-30.667849</td>\n      <td>-22.635021</td>\n      <td>...</td>\n      <td>34.883457</td>\n      <td>28.192152</td>\n      <td>15.495848</td>\n      <td>-2.578500</td>\n      <td>-24.737413</td>\n      <td>-49.127632</td>\n      <td>-73.555237</td>\n      <td>-95.766106</td>\n      <td>-113.732628</td>\n      <td>-125.915459</td>\n    </tr>\n    <tr>\n      <th>8_7</th>\n      <td>-33.967102</td>\n      <td>-32.017540</td>\n      <td>-27.452972</td>\n      <td>-20.603409</td>\n      <td>-12.023408</td>\n      <td>-2.387321</td>\n      <td>7.625940</td>\n      <td>17.436592</td>\n      <td>26.651592</td>\n      <td>35.110722</td>\n      <td>...</td>\n      <td>76.403763</td>\n      <td>70.120720</td>\n      <td>62.356373</td>\n      <td>53.907246</td>\n      <td>45.582462</td>\n      <td>38.119202</td>\n      <td>32.112026</td>\n      <td>27.962679</td>\n      <td>25.867680</td>\n      <td>25.843983</td>\n    </tr>\n    <tr>\n      <th>8_8</th>\n      <td>16.815691</td>\n      <td>10.192864</td>\n      <td>5.472429</td>\n      <td>2.710255</td>\n      <td>1.658299</td>\n      <td>1.842864</td>\n      <td>2.688516</td>\n      <td>3.643951</td>\n      <td>4.276560</td>\n      <td>4.325038</td>\n      <td>...</td>\n      <td>-55.594746</td>\n      <td>-46.241917</td>\n      <td>-34.735180</td>\n      <td>-21.981701</td>\n      <td>-8.764092</td>\n      <td>4.280690</td>\n      <td>16.642647</td>\n      <td>27.897211</td>\n      <td>37.658298</td>\n      <td>45.543083</td>\n    </tr>\n    <tr>\n      <th>8_9</th>\n      <td>23.275391</td>\n      <td>5.198435</td>\n      <td>-12.615696</td>\n      <td>-28.700695</td>\n      <td>-41.896564</td>\n      <td>-51.436348</td>\n      <td>-56.966782</td>\n      <td>-58.497654</td>\n      <td>-56.310261</td>\n      <td>-50.860695</td>\n      <td>...</td>\n      <td>54.887783</td>\n      <td>47.968651</td>\n      <td>40.608437</td>\n      <td>32.969738</td>\n      <td>25.212347</td>\n      <td>17.495827</td>\n      <td>9.981479</td>\n      <td>2.834087</td>\n      <td>-3.782435</td>\n      <td>-9.720043</td>\n    </tr>\n  </tbody>\n</table>\n<p>170 rows × 8000 columns</p>\n</div>"
     },
     "execution_count": 17,
     "metadata": {},
     "output_type": "execute_result"
    }
   ],
   "source": [
    "pd.concat([train, test])"
   ],
   "metadata": {
    "collapsed": false
   }
  },
  {
   "cell_type": "code",
   "execution_count": 20,
   "outputs": [
    {
     "data": {
      "text/plain": "array([[1.  , 0.  ],\n       [1.  , 0.  ],\n       [1.  , 0.  ],\n       [1.  , 0.  ],\n       [1.  , 0.  ],\n       [1.  , 0.  ],\n       [1.  , 0.  ],\n       [1.  , 0.  ],\n       [1.  , 0.  ],\n       [1.  , 0.  ],\n       [1.  , 0.  ],\n       [1.  , 0.  ],\n       [1.  , 0.  ],\n       [1.  , 0.  ],\n       [1.  , 0.  ],\n       [1.  , 0.  ],\n       [1.  , 0.  ],\n       [1.  , 0.  ],\n       [1.  , 0.  ],\n       [1.  , 0.  ],\n       [1.  , 0.  ],\n       [1.  , 0.  ],\n       [1.  , 0.  ],\n       [1.  , 0.  ],\n       [1.  , 0.  ],\n       [1.  , 0.  ],\n       [1.  , 0.  ],\n       [1.  , 0.  ],\n       [1.  , 0.  ],\n       [1.  , 0.  ],\n       [1.  , 0.  ],\n       [1.  , 0.  ],\n       [1.  , 0.  ],\n       [1.  , 0.  ],\n       [1.  , 0.  ],\n       [1.  , 0.  ],\n       [1.  , 0.  ],\n       [1.  , 0.  ],\n       [1.  , 0.  ],\n       [1.  , 0.  ],\n       [1.  , 0.  ],\n       [1.  , 0.  ],\n       [1.  , 0.  ],\n       [1.  , 0.  ],\n       [1.  , 0.  ],\n       [1.  , 0.  ],\n       [1.  , 0.  ],\n       [1.  , 0.  ],\n       [1.  , 0.  ],\n       [1.  , 0.  ],\n       [1.  , 0.  ],\n       [1.  , 0.  ],\n       [1.  , 0.  ],\n       [1.  , 0.  ],\n       [1.  , 0.  ],\n       [1.  , 0.  ],\n       [1.  , 0.  ],\n       [1.  , 0.  ],\n       [1.  , 0.  ],\n       [1.  , 0.  ],\n       [1.  , 0.  ],\n       [1.  , 0.  ],\n       [1.  , 0.  ],\n       [1.  , 0.  ],\n       [1.  , 0.  ],\n       [1.  , 0.  ],\n       [1.  , 0.  ],\n       [1.  , 0.  ],\n       [1.  , 0.  ],\n       [1.  , 0.  ],\n       [0.06, 0.94],\n       [0.03, 0.97],\n       [0.01, 0.99],\n       [0.12, 0.88],\n       [0.09, 0.91],\n       [0.1 , 0.9 ],\n       [0.12, 0.88],\n       [0.01, 0.99],\n       [0.01, 0.99],\n       [0.04, 0.96],\n       [0.06, 0.94],\n       [0.1 , 0.9 ],\n       [0.03, 0.97],\n       [0.03, 0.97],\n       [0.09, 0.91],\n       [0.01, 0.99],\n       [0.09, 0.91],\n       [0.03, 0.97],\n       [0.05, 0.95],\n       [0.02, 0.98],\n       [1.  , 0.  ],\n       [1.  , 0.  ],\n       [1.  , 0.  ],\n       [1.  , 0.  ],\n       [1.  , 0.  ],\n       [1.  , 0.  ],\n       [1.  , 0.  ],\n       [1.  , 0.  ],\n       [1.  , 0.  ],\n       [1.  , 0.  ],\n       [1.  , 0.  ],\n       [1.  , 0.  ],\n       [1.  , 0.  ],\n       [1.  , 0.  ],\n       [1.  , 0.  ],\n       [1.  , 0.  ],\n       [1.  , 0.  ],\n       [1.  , 0.  ],\n       [1.  , 0.  ],\n       [1.  , 0.  ],\n       [1.  , 0.  ],\n       [1.  , 0.  ],\n       [1.  , 0.  ],\n       [1.  , 0.  ],\n       [1.  , 0.  ],\n       [1.  , 0.  ],\n       [1.  , 0.  ],\n       [1.  , 0.  ],\n       [1.  , 0.  ],\n       [1.  , 0.  ],\n       [1.  , 0.  ],\n       [1.  , 0.  ],\n       [1.  , 0.  ],\n       [1.  , 0.  ],\n       [1.  , 0.  ],\n       [1.  , 0.  ],\n       [1.  , 0.  ],\n       [1.  , 0.  ],\n       [1.  , 0.  ],\n       [1.  , 0.  ],\n       [1.  , 0.  ],\n       [1.  , 0.  ],\n       [1.  , 0.  ],\n       [1.  , 0.  ],\n       [1.  , 0.  ],\n       [1.  , 0.  ],\n       [1.  , 0.  ],\n       [1.  , 0.  ],\n       [1.  , 0.  ],\n       [1.  , 0.  ],\n       [1.  , 0.  ],\n       [1.  , 0.  ],\n       [1.  , 0.  ],\n       [1.  , 0.  ],\n       [1.  , 0.  ],\n       [1.  , 0.  ],\n       [1.  , 0.  ],\n       [1.  , 0.  ],\n       [1.  , 0.  ],\n       [1.  , 0.  ],\n       [1.  , 0.  ],\n       [1.  , 0.  ],\n       [1.  , 0.  ],\n       [1.  , 0.  ],\n       [1.  , 0.  ],\n       [1.  , 0.  ],\n       [1.  , 0.  ],\n       [1.  , 0.  ],\n       [1.  , 0.  ],\n       [1.  , 0.  ],\n       [0.  , 1.  ],\n       [0.03, 0.97],\n       [0.05, 0.95],\n       [0.05, 0.95],\n       [0.06, 0.94],\n       [0.02, 0.98],\n       [0.03, 0.97],\n       [0.03, 0.97],\n       [0.02, 0.98],\n       [0.07, 0.93]])"
     },
     "execution_count": 20,
     "metadata": {},
     "output_type": "execute_result"
    }
   ],
   "source": [
    "rf = RandomForestClassifier(random_state=42)\n",
    "rf.fit(pca.transform(pd.concat([train, test])), [0] * 70 + [1] * 20 + [0] * 70 + [1] * 10)\n",
    "proba = rf.predict_proba(pca.transform(pd.concat([train, test])), )\n",
    "proba"
   ],
   "metadata": {
    "collapsed": false
   }
  },
  {
   "cell_type": "code",
   "execution_count": 21,
   "outputs": [
    {
     "data": {
      "text/plain": "array([0.05796225, 0.01832271, 0.0473746 , 0.12397487, 0.04696468,\n       0.04987433, 0.12500623, 0.03113295, 0.05116806, 0.15117179,\n       0.0784284 , 0.0355981 , 0.05759811, 0.04443241, 0.04211371,\n       0.02002009, 0.01885673])"
     },
     "execution_count": 21,
     "metadata": {},
     "output_type": "execute_result"
    }
   ],
   "source": [
    "rf.feature_importances_"
   ],
   "metadata": {
    "collapsed": false
   }
  },
  {
   "cell_type": "code",
   "execution_count": 22,
   "outputs": [
    {
     "data": {
      "text/plain": "array([[ -4465.509  ,    497.18585,   -356.95532, ...,   -606.6225 ,\n           207.3414 ,  -1032.1714 ],\n       [ -4465.4653 ,    497.1189 ,   -356.8735 , ...,   -606.3855 ,\n           208.13332,  -1032.5629 ],\n       [ -4465.5527 ,    497.06113,   -356.8011 , ...,   -606.1006 ,\n           208.02843,  -1032.4032 ],\n       ...,\n       [-52888.305  ,  42243.137  ,  49385.836  , ...,  -9422.124  ,\n         -9002.82   ,  -7775.862  ],\n       [-19416.488  , -63245.86   , -49537.777  , ...,    241.39972,\n          4132.109  ,   -176.80858],\n       [-14277.77   , -32006.13   ,   4917.073  , ...,  10931.992  ,\n         21978.457  ,  -2526.786  ]], dtype=float32)"
     },
     "execution_count": 22,
     "metadata": {},
     "output_type": "execute_result"
    }
   ],
   "source": [
    "pca.transform(pd.concat([train, test]))"
   ],
   "metadata": {
    "collapsed": false
   }
  },
  {
   "cell_type": "code",
   "execution_count": null,
   "outputs": [],
   "source": [],
   "metadata": {
    "collapsed": false
   }
  }
 ],
 "metadata": {
  "kernelspec": {
   "display_name": "Python 3",
   "language": "python",
   "name": "python3"
  },
  "language_info": {
   "codemirror_mode": {
    "name": "ipython",
    "version": 2
   },
   "file_extension": ".py",
   "mimetype": "text/x-python",
   "name": "python",
   "nbconvert_exporter": "python",
   "pygments_lexer": "ipython2",
   "version": "2.7.6"
  }
 },
 "nbformat": 4,
 "nbformat_minor": 0
}
